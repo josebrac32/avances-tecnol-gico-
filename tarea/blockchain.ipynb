{
 "cells": [
  {
   "cell_type": "markdown",
   "id": "e6deedd5",
   "metadata": {},
   "source": [
    " Que es blockchain :\n",
    "  \n",
    "Blockchain es una tecnología que funciona como un libro de contabilidad digital descentralizado e inmutable, donde las transacciones se registran en bloques que se enlazan en una cadena cronológica segura y transparente. Al ser replicada y validada por una red de participantes (nodos), sin depender de una autoridad central, esta base de datos distribuida garantiza la integridad y la confianza en la información registrada, haciéndola resistente a la manipulación y la eliminación de datos.\n",
    "\n",
    " Por qué es importante el blockchain :\n",
    "\n",
    "Los negocios funcionan con información. Cuanto más rápido se reciba la información y más precisa sea, mejor. El blockchain es ideal para entregar esa información porque proporciona datos inmediatos, compartidos y observables que se almacenan en un libro de contabilidad inmutable al que sólo pueden acceder los miembros de la red autorizados. Una red de blockchain puede rastrear pedidos, pagos, cuentas, producción y mucho más. Y como los miembros comparten una vista única de la verdad, usted puede ver todos los detalles de una transacción de principio a fin, lo que le brinda mayor confianza y nuevas eficiencias y oportunidades.\n",
    "\n",
    " Elementos clave de un blockchain :\n",
    "\n",
    " - Tecnología de contabilidad distribuida :\n",
    "\n",
    "Todos los participantes de la red tienen acceso al libro de contabilidad distribuido y a su registro inmutable de transacciones. Con este libro de contabilidad compartido, las transacciones se registran una sola vez, lo que elimina la duplicación de esfuerzos típica de las redes empresariales tradicionales.\n",
    "\n",
    " - Registros inmutables : \n",
    "\n",
    "Ningún participante puede cambiar o alterar una transacción después de que se haya registrado en el libro de contabilidad compartido. Si un registro de transacción incluye un error, se debe agregar una nueva transacción para revertir el error y ambas transacciones serán visibles.\n",
    "\n",
    " - contratos inteligentesñ :\n",
    "\n",
    "Para acelerar las transacciones, un conjunto de reglas que se denominan contratos inteligentes se almacena en el blockchain y se ejecuta automáticamente. Un contrato inteligente define las condiciones para las transferencias de bonos corporativos, incluye los términos para el pago del seguro de viaje y mucho más.\n",
    "\n",
    "\n",
    " Cómo Funciona :\n",
    "\n",
    "- Bloques de información: Cada transacción se agrupa en un \"bloque\" que contiene detalles como quién, qué, cuándo y cuánto. \n",
    "\n",
    "- Encadenamiento: Cada bloque nuevo se enlaza de forma segura al bloque anterior y al siguiente, creando una cadena de datos irreversible.\n",
    "\n",
    "- Distribución y consenso: El registro de datos se replica y comparte entre una red de ordenadores (nodos), y las actualizaciones se validan mediante un proceso de verificación público o de consenso.\n",
    "\n",
    "- Seguridad y transparencia: La criptografía y el consenso de la red aseguran que los datos sean inalterables una vez registrados, garantizando un registro transparente, seguro y auditable para los participantes. \n",
    "\n",
    " Beneficios Clave :\n",
    "\n",
    "- Inmutabilidad: Una vez que una transacción se registra, no puede ser alterada ni eliminada.\n",
    "\n",
    "- Confianza: La red no depende de intermediarios, ya que la validación se realiza por consenso de los participantes.\n",
    "\n",
    "- Transparencia: Los datos son compartidos y visibles para los miembros de la red, lo que permite una total auditabilidad. \n",
    "\n",
    "- Seguridad: La descentralización y la criptografía protegen la información de accesos no autorizados y manipulaciones. \n",
    "\n",
    "- Eficiencia: Los procesos se agilizan y se reducen los costes al eliminar intermediarios.\n",
    "\n",
    " "
   ]
  }
 ],
 "metadata": {
  "language_info": {
   "name": "python"
  }
 },
 "nbformat": 4,
 "nbformat_minor": 5
}
