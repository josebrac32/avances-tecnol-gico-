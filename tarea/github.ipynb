{
 "cells": [
  {
   "cell_type": "markdown",
   "id": "d18da422",
   "metadata": {},
   "source": [
    "comados de github:\n",
    "\n",
    "Los comandos principales para GitHub son los de Git, como (git) (init) para inicializar un repositorio, (git add) para añadir archivos, git commit para guardar cambios, (git push) para subir los cambios a un repositorio remoto, (git pull) para descargar cambios, y (git clone) para copiar un repositorio existente. Para interactuar con la plataforma de GitHub, se puede usar la Paleta de Comandos (Cmd+K o Ctrl+K) o la GitHub CLI, que se instala por separado.  \n",
    "Comandos básicos de Git:\n",
    "\n",
    "- git init: Crea un nuevo repositorio Git en tu directorio actual.\n",
    "\n",
    "- git add <archivo> o git add .: Añade archivos al \"área de preparación\" (staging) para incluirlos en el próximo commit. \n",
    "\n",
    "- git commit -m \"mensaje\": Guarda los cambios del área de preparación en el repositorio local con un mensaje descriptivo. \n",
    "\n",
    "- git status: Muestra el estado de los archivos en el repositorio: cuáles han sido modificados, añadidos o están listos para el commit.\n",
    "\n",
    "- git log: Muestra el historial de commits del repositorio, incluyendo los mensajes y las fechas.\n",
    "\n",
    "- git push: Envía tus commits locales a un repositorio remoto (generalmente en GitHub).\n",
    "\n",
    "- git pull: Descarga los cambios de un repositorio remoto y los fusiona automáticamente en tu rama local. \n",
    "\n",
    "- git branch: Permite listar, crear o eliminar ramas (branches). \n",
    "\n",
    "- git checkout <nombre-rama>: Cambia de rama o crea una nueva y se mueve a ella. \n",
    "\n",
    "- git merge <nombre-rama>: Fusiona los cambios de una rama a otra.\n",
    "\n",
    "- git clone <url>: Copia un repositorio remoto existente a tu máquina local. "
   ]
  }
 ],
 "metadata": {
  "language_info": {
   "name": "python"
  }
 },
 "nbformat": 4,
 "nbformat_minor": 5
}
