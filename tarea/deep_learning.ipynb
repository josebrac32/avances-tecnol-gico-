{
 "cells": [
  {
   "cell_type": "markdown",
   "id": "b1b4fc11",
   "metadata": {},
   "source": [
    "  Qué es el deep learning :\n",
    "\n",
    "El deep learning es un subconjunto del machine learning que utiliza redes neuronales multicapa, llamadas redes neuronales profundas, para simular el complejo poder de toma de decisiones del cerebro humano. Algunas formas de deep learning impulsan la mayoría de las aplicaciones de inteligencia artificial (IA) en nuestra vida actual.\n",
    "\n",
    "La principal diferencia entre el deep learning y el machine learning es la estructura de la arquitectura de red neuronal subyacente. Los modelos tradicionales de machine learning “no profundos” utilizan redes neuronales simples con una o dos capas computacionales. Los modelos de deep learning utilizan tres o más capas, pero normalmente cientos o miles de capas, para entrenar los modelos.\n",
    "\n",
    "Mientras que los modelos de aprendizaje supervisado requieren datos de entrada estructurados y etiquetados para obtener resultados precisos, los modelos de deep learning pueden utilizar el aprendizaje no supervisado. Con el aprendizaje no supervisado, los modelos de deep learning pueden extraer las características, los rasgos y las relaciones que necesitan para obtener resultados precisos a partir de datos brutos y no estructurados. Además, estos modelos pueden incluso evaluar y refinar sus resultados para aumentar la precisión.\n",
    "\n",
    "El deep learning es un aspecto de la ciencia de datos que impulsa muchas aplicaciones y servicios que mejoran la automatización mediante la realización de tareas analíticas y físicas sin intervención humana. Esto hace posible que existan productos y servicios cotidianos como los asistentes digitales, los mandos a distancia con voz, la detección de fraudes con tarjetas de crédito, los coches autónomos y la IA generativa.\n",
    "\n",
    "\n",
    "  Cómo funciona:\n",
    "\n",
    "Redes Neuronales Profundas: El deep learning se basa en redes neuronales artificiales con muchas capas ocultas (de ahí el término \"profundo\").\n",
    "\n",
    "Aprendizaje por Capas: Cada capa de la red aprende a partir de la salida de la capa anterior, construyendo representaciones de datos cada vez más abstractas.\n",
    "\n",
    "Grandes Cantidades de Datos: Requiere grandes conjuntos de datos para entrenar los modelos y mejorar su precisión.\n",
    "\n",
    "Sin Supervisión Manual de Características: A diferencia del machine learning tradicional, el deep learning puede aprender las características relevantes directamente de los datos. \n",
    "\n",
    "  Aplicaciones comunes:\n",
    "\n",
    "- Visión Artificial: Reconocimiento de imágenes, detección de objetos, análisis de radiografías.\n",
    "\n",
    "- Procesamiento del Lenguaje Natural: Traducción de idiomas, creación de asistentes virtuales, análisis de texto.\n",
    "\n",
    "- Reconocimiento de Voz: Convertir voz a texto, permitir el control por voz de dispositivos. \n",
    "\n",
    "- Sistemas de Recomendación: Ofrecer sugerencias personalizadas de productos o contenido.\n",
    "\n",
    "- Generación de Datos: Crear nuevo contenido, como imágenes o música, que se parezca a los datos de entrenamiento. "
   ]
  }
 ],
 "metadata": {
  "language_info": {
   "name": "python"
  }
 },
 "nbformat": 4,
 "nbformat_minor": 5
}
