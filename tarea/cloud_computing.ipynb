{
 "cells": [
  {
   "cell_type": "markdown",
   "id": "1956d0b7",
   "metadata": {},
   "source": [
    "Qué es el cloud computing :\n",
    "\n",
    "El cloud computing es el acceso bajo demanda a recursos informáticos (servidores físicos o virtuales, almacenamiento de datos, capacidades de red, herramientas de desarrollo de aplicaciones, software, plataformas analíticas con IA y más) a través de Internet con precios de pago por uso.\n",
    "\n",
    "En términos más simples, la \"nube\" no se refiere a algo que flota en el cielo. Más bien, cuando utiliza servicios en la nube, accede a servidores remotos, potentes mainframes alojados en grandes centros de datos, a través de Internet. El modelo de cloud computing le ofrece a usted, el cliente, una mayor flexibilidad y escalabilidad en comparación con la infraestructura tradicional local.\n",
    "\n",
    "El cloud computing es fundamental en nuestra vida diaria, ya sea para acceder a una aplicación en la nube como Google Gmail, ver una película en Netflix o jugar a un videojuego alojado en la nube. Con el cloud computing, obtiene la potencia de cálculo o el almacenamiento que necesita, sin tener que poseer ni gestionar el hardware físico usted mismo.\n",
    "\n",
    "El cloud computing también se ha vuelto indispensable en los entornos empresariales, desde las pequeñas empresas emergentes hasta las empresas globales, ya que ofrece una mayor flexibilidad y escalabilidad que la infraestructura local tradicional. Entre sus numerosas aplicaciones empresariales se incluyen la posibilidad de teletrabajar haciendo accesibles los datos y las aplicaciones desde cualquier lugar, la creación del marco necesario para una atención al cliente omnicanal sin fisuras y el suministro de la enorme potencia informática y otros recursos necesarios para aprovechar tecnologías punta como la IA generativa y la computación cuántica.\n",
    "\n",
    "   Beneficios del cloud computing : \n",
    "\n",
    "En comparación con la TI local tradicional, en la que una empresa posee y mantiene centros de datos físicos y servidores para acceder a la potencia informática, el almacenamiento de datos y otros recursos, el cloud computing ofrece muchos beneficios, entre ellos:\n",
    "\n",
    "- Rentabilidad\n",
    "\n",
    "Aumento de la velocidad y la agilidad\n",
    "Escalabilidad ilimitada\n",
    "Mejora del valor estratégico\n",
    "Rentabilidad\n",
    "El cloud computing le permite descargar una parte o la totalidad de los gastos y el esfuerzo de adquirir, instalar, configurar y gestionar los ordenadores mainframe y otra infraestructura en las instalaciones. Solo pagas por la infraestructura basada en la nube y otros recursos de computación a medida que los utilizas.\n",
    "\n",
    "- Aumento de la velocidad y la agilidad\n",
    "\n",
    "Con las tecnologías en la nube, su organización puede utilizar las aplicaciones empresariales en cuestión de minutos, en lugar de esperar semanas o meses a que el departamento de TI responda a una solicitud, adquiera y configure el hardware de apoyo e instale el software. Esta característica capacita a los usuarios (específicamente a DevOps y otros equipos de desarrollo) para ayudar a utilizar el software basado en la nube y la infraestructura de soporte.\n",
    "\n",
    "- Escalabilidad ilimitada\n",
    "\n",
    "El cloud computing proporciona elasticidad y aprovisionamiento de autoservicio, por lo que en lugar de comprar un exceso de capacidad que se queda sin utilizar durante los periodos de menor actividad, puede ampliar y reducir la capacidad en respuesta a los picos y caídas del tráfico. También puede utilizar la red global de su proveedor de nube para acercar sus aplicaciones a los usuarios de todo el mundo.\n",
    "\n",
    "- Mejora del valor estratégico\n",
    "\n",
    "El cloud computing permite a las organizaciones utilizar diversas tecnologías y las innovaciones más actuales para obtener una ventaja competitiva. Por ejemplo, en la venta minorista, la banca y otros sectores orientados al cliente, los agentes virtuales con IA implementados en la nube pueden ofrecer un mejor tiempo de respuesta al cliente y liberar a los equipos para que se centren en el trabajo de mayor nivel. En el sector de la fabricación, los equipos pueden colaborar y utilizar software basado en la nube para monitorizar los datos en tiempo real de los procesos logísticos y de la cadena de suministro.\n",
    "\n",
    "\n"
   ]
  }
 ],
 "metadata": {
  "language_info": {
   "name": "python"
  }
 },
 "nbformat": 4,
 "nbformat_minor": 5
}
